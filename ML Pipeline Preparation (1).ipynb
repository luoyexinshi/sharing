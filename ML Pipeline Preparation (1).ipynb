{
 "cells": [
  {
   "cell_type": "markdown",
   "metadata": {},
   "source": [
    "# ML Pipeline Preparation\n",
    "Follow the instructions below to help you create your ML pipeline.\n",
    "### 1. Import libraries and load data from database.\n",
    "- Import Python libraries\n",
    "- Load dataset from database with [`read_sql_table`](https://pandas.pydata.org/pandas-docs/stable/generated/pandas.read_sql_table.html)\n",
    "- Define feature and target variables X and Y"
   ]
  },
  {
   "cell_type": "code",
   "execution_count": 33,
   "metadata": {},
   "outputs": [
    {
     "name": "stdout",
     "output_type": "stream",
     "text": [
      "[nltk_data] Downloading package punkt to /root/nltk_data...\n",
      "[nltk_data]   Package punkt is already up-to-date!\n",
      "[nltk_data] Downloading package stopwords to /root/nltk_data...\n",
      "[nltk_data]   Package stopwords is already up-to-date!\n",
      "[nltk_data] Downloading package wordnet to /root/nltk_data...\n",
      "[nltk_data]   Package wordnet is already up-to-date!\n"
     ]
    }
   ],
   "source": [
    "# import libraries\n",
    "import pandas as pd\n",
    "import numpy as np\n",
    "import matplotlib.pyplot as plt\n",
    "%matplotlib inline \n",
    "import sqlite3\n",
    "from sqlalchemy import create_engine\n",
    "from sklearn.pipeline import Pipeline\n",
    "\n",
    "import re\n",
    "import nltk\n",
    "nltk.download('punkt')\n",
    "from nltk.tokenize import word_tokenize, sent_tokenize\n",
    "from nltk.stem.wordnet import WordNetLemmatizer\n",
    "nltk.download('stopwords')\n",
    "nltk.download('wordnet')\n",
    "from nltk.corpus import stopwords\n",
    "from sklearn.feature_extraction.text import CountVectorizer,TfidfTransformer\n",
    "from sklearn.multioutput import MultiOutputClassifier\n",
    "from sklearn.model_selection import train_test_split\n",
    "from sklearn.ensemble import RandomForestClassifier\n",
    "from sklearn.metrics import classification_report\n",
    "from sklearn.model_selection import GridSearchCV\n",
    "\n",
    "import pickle\n",
    "\n",
    "from sklearn import tree\n"
   ]
  },
  {
   "cell_type": "code",
   "execution_count": 22,
   "metadata": {},
   "outputs": [],
   "source": [
    "# load data from database\n",
    "def load_data():\n",
    "    engine = create_engine('sqlite:///data_project.db')\n",
    "    df = pd.read_sql(\"SELECT * FROM data_project\", engine)\n",
    "    X = df['message']\n",
    "    y = df.iloc[:,4:41]\n",
    "    labels = y.columns\n",
    "    return X, y, labels"
   ]
  },
  {
   "cell_type": "markdown",
   "metadata": {},
   "source": [
    "### 2. Write a tokenization function to process your text data"
   ]
  },
  {
   "cell_type": "code",
   "execution_count": 23,
   "metadata": {},
   "outputs": [],
   "source": [
    "stop_words = stopwords.words(\"english\")\n",
    "lemmatizer = WordNetLemmatizer()\n",
    "\n",
    "\n",
    "def tokenize(text):\n",
    "    '''\n",
    "    input: text\n",
    "    \n",
    "    return: cleaned text data\n",
    "    '''\n",
    "    # normalize text\n",
    "    text = re.sub(r\"[^a-zA-Z0-9]\", \" \", str(text).lower().strip())\n",
    "    \n",
    "    # Tokenize text\n",
    "    words = word_tokenize(text)\n",
    "    \n",
    "    # lemmatize andremove stop words\n",
    "    tokens = [lemmatizer.lemmatize(word) for word in words if word not in stop_words]\n",
    "\n",
    "    return tokens"
   ]
  },
  {
   "cell_type": "markdown",
   "metadata": {},
   "source": [
    "### 3. Build a machine learning pipeline\n",
    "This machine pipeline should take in the `message` column as input and output classification results on the other 36 categories in the dataset. You may find the [MultiOutputClassifier](http://scikit-learn.org/stable/modules/generated/sklearn.multioutput.MultiOutputClassifier.html) helpful for predicting multiple target variables."
   ]
  },
  {
   "cell_type": "code",
   "execution_count": 4,
   "metadata": {},
   "outputs": [],
   "source": [
    "pipeline = Pipeline([\n",
    "        ('vec', CountVectorizer(tokenizer=tokenize)),\n",
    "        ('tfidf', TfidfTransformer()),\n",
    "        ('clf', MultiOutputClassifier(RandomForestClassifier(n_estimators=100, random_state=1), n_jobs=-1))\n",
    "    ])"
   ]
  },
  {
   "cell_type": "markdown",
   "metadata": {},
   "source": [
    "### 4. Train pipeline\n",
    "- Split data into train and test sets\n",
    "- Train pipeline"
   ]
  },
  {
   "cell_type": "code",
   "execution_count": 24,
   "metadata": {},
   "outputs": [],
   "source": [
    "X, y,labels = load_data()\n",
    "X_train, X_test, y_train, y_test = train_test_split(X, y)"
   ]
  },
  {
   "cell_type": "code",
   "execution_count": 18,
   "metadata": {},
   "outputs": [
    {
     "data": {
      "text/plain": [
       "Pipeline(memory=None,\n",
       "     steps=[('vec', CountVectorizer(analyzer='word', binary=False, decode_error='strict',\n",
       "        dtype=<class 'numpy.int64'>, encoding='utf-8', input='content',\n",
       "        lowercase=True, max_df=1.0, max_features=None, min_df=1,\n",
       "        ngram_range=(1, 1), preprocessor=None, stop_words=None,\n",
       "        strip_...,\n",
       "            oob_score=False, random_state=1, verbose=0, warm_start=False),\n",
       "           n_jobs=-1))])"
      ]
     },
     "execution_count": 18,
     "metadata": {},
     "output_type": "execute_result"
    }
   ],
   "source": [
    "pipeline.fit(X_train, y_train)"
   ]
  },
  {
   "cell_type": "markdown",
   "metadata": {},
   "source": [
    "### 5. Test your model\n",
    "Report the f1 score, precision and recall for each output category of the dataset. You can do this by iterating through the columns and calling sklearn's `classification_report` on each."
   ]
  },
  {
   "cell_type": "code",
   "execution_count": 19,
   "metadata": {},
   "outputs": [],
   "source": [
    "y_pred = pipeline.predict(X_test)\n"
   ]
  },
  {
   "cell_type": "code",
   "execution_count": 21,
   "metadata": {
    "scrolled": true
   },
   "outputs": [
    {
     "name": "stdout",
     "output_type": "stream",
     "text": [
      "                        precision    recall  f1-score   support\n",
      "\n",
      "               related       0.84      0.95      0.89      5066\n",
      "               request       0.86      0.48      0.62      1188\n",
      "                 offer       0.00      0.00      0.00        22\n",
      "           aid_related       0.76      0.70      0.73      2770\n",
      "          medical_help       0.68      0.08      0.14       532\n",
      "      medical_products       0.90      0.08      0.14       344\n",
      "     search_and_rescue       0.52      0.06      0.10       190\n",
      "              security       0.00      0.00      0.00       115\n",
      "              military       0.62      0.08      0.14       198\n",
      "           child_alone       0.00      0.00      0.00         0\n",
      "                 water       0.93      0.40      0.56       414\n",
      "                  food       0.86      0.59      0.70       743\n",
      "               shelter       0.85      0.43      0.57       581\n",
      "              clothing       0.91      0.08      0.15       119\n",
      "                 money       1.00      0.02      0.04       154\n",
      "        missing_people       0.50      0.01      0.03        72\n",
      "              refugees       0.50      0.01      0.03       205\n",
      "                 death       0.79      0.11      0.20       295\n",
      "             other_aid       0.69      0.03      0.07       897\n",
      "infrastructure_related       0.00      0.00      0.00       456\n",
      "             transport       0.74      0.12      0.20       300\n",
      "             buildings       0.80      0.12      0.20       334\n",
      "           electricity       1.00      0.03      0.06       130\n",
      "                 tools       0.00      0.00      0.00        40\n",
      "             hospitals       0.00      0.00      0.00        78\n",
      "                 shops       0.00      0.00      0.00        24\n",
      "           aid_centers       0.00      0.00      0.00        85\n",
      "  other_infrastructure       0.00      0.00      0.00       308\n",
      "       weather_related       0.84      0.69      0.76      1831\n",
      "                floods       0.89      0.46      0.61       544\n",
      "                 storm       0.77      0.52      0.62       636\n",
      "                  fire       0.50      0.02      0.03        57\n",
      "            earthquake       0.89      0.80      0.84       616\n",
      "                  cold       1.00      0.06      0.11       150\n",
      "         other_weather       0.50      0.03      0.06       353\n",
      "         direct_report       0.79      0.36      0.49      1322\n",
      "\n",
      "           avg / total       0.76      0.53      0.57     21169\n",
      "\n"
     ]
    },
    {
     "name": "stderr",
     "output_type": "stream",
     "text": [
      "/opt/conda/lib/python3.6/site-packages/sklearn/metrics/classification.py:1135: UndefinedMetricWarning: Precision and F-score are ill-defined and being set to 0.0 in labels with no predicted samples.\n",
      "  'precision', 'predicted', average, warn_for)\n",
      "/opt/conda/lib/python3.6/site-packages/sklearn/metrics/classification.py:1137: UndefinedMetricWarning: Recall and F-score are ill-defined and being set to 0.0 in labels with no true samples.\n",
      "  'recall', 'true', average, warn_for)\n"
     ]
    }
   ],
   "source": [
    "print(classification_report(y_test, y_pred, target_names=labels))\n"
   ]
  },
  {
   "cell_type": "markdown",
   "metadata": {},
   "source": [
    "### 6. Improve your model\n",
    "Use grid search to find better parameters. "
   ]
  },
  {
   "cell_type": "code",
   "execution_count": 14,
   "metadata": {},
   "outputs": [
    {
     "data": {
      "text/plain": [
       "{'memory': None,\n",
       " 'steps': [('vec',\n",
       "   CountVectorizer(analyzer='word', binary=False, decode_error='strict',\n",
       "           dtype=<class 'numpy.int64'>, encoding='utf-8', input='content',\n",
       "           lowercase=True, max_df=1.0, max_features=None, min_df=1,\n",
       "           ngram_range=(1, 1), preprocessor=None, stop_words=None,\n",
       "           strip_accents=None, token_pattern='(?u)\\\\b\\\\w\\\\w+\\\\b',\n",
       "           tokenizer=<function tokenize at 0x7fd61146f400>, vocabulary=None)),\n",
       "  ('tfidf',\n",
       "   TfidfTransformer(norm='l2', smooth_idf=True, sublinear_tf=False, use_idf=True)),\n",
       "  ('clf',\n",
       "   MultiOutputClassifier(estimator=RandomForestClassifier(bootstrap=True, class_weight=None, criterion='gini',\n",
       "               max_depth=None, max_features='auto', max_leaf_nodes=None,\n",
       "               min_impurity_decrease=0.0, min_impurity_split=None,\n",
       "               min_samples_leaf=1, min_samples_split=2,\n",
       "               min_weight_fraction_leaf=0.0, n_estimators=100, n_jobs=1,\n",
       "               oob_score=False, random_state=1, verbose=0, warm_start=False),\n",
       "              n_jobs=-1))],\n",
       " 'vec': CountVectorizer(analyzer='word', binary=False, decode_error='strict',\n",
       "         dtype=<class 'numpy.int64'>, encoding='utf-8', input='content',\n",
       "         lowercase=True, max_df=1.0, max_features=None, min_df=1,\n",
       "         ngram_range=(1, 1), preprocessor=None, stop_words=None,\n",
       "         strip_accents=None, token_pattern='(?u)\\\\b\\\\w\\\\w+\\\\b',\n",
       "         tokenizer=<function tokenize at 0x7fd61146f400>, vocabulary=None),\n",
       " 'tfidf': TfidfTransformer(norm='l2', smooth_idf=True, sublinear_tf=False, use_idf=True),\n",
       " 'clf': MultiOutputClassifier(estimator=RandomForestClassifier(bootstrap=True, class_weight=None, criterion='gini',\n",
       "             max_depth=None, max_features='auto', max_leaf_nodes=None,\n",
       "             min_impurity_decrease=0.0, min_impurity_split=None,\n",
       "             min_samples_leaf=1, min_samples_split=2,\n",
       "             min_weight_fraction_leaf=0.0, n_estimators=100, n_jobs=1,\n",
       "             oob_score=False, random_state=1, verbose=0, warm_start=False),\n",
       "            n_jobs=-1),\n",
       " 'vec__analyzer': 'word',\n",
       " 'vec__binary': False,\n",
       " 'vec__decode_error': 'strict',\n",
       " 'vec__dtype': numpy.int64,\n",
       " 'vec__encoding': 'utf-8',\n",
       " 'vec__input': 'content',\n",
       " 'vec__lowercase': True,\n",
       " 'vec__max_df': 1.0,\n",
       " 'vec__max_features': None,\n",
       " 'vec__min_df': 1,\n",
       " 'vec__ngram_range': (1, 1),\n",
       " 'vec__preprocessor': None,\n",
       " 'vec__stop_words': None,\n",
       " 'vec__strip_accents': None,\n",
       " 'vec__token_pattern': '(?u)\\\\b\\\\w\\\\w+\\\\b',\n",
       " 'vec__tokenizer': <function __main__.tokenize(text)>,\n",
       " 'vec__vocabulary': None,\n",
       " 'tfidf__norm': 'l2',\n",
       " 'tfidf__smooth_idf': True,\n",
       " 'tfidf__sublinear_tf': False,\n",
       " 'tfidf__use_idf': True,\n",
       " 'clf__estimator__bootstrap': True,\n",
       " 'clf__estimator__class_weight': None,\n",
       " 'clf__estimator__criterion': 'gini',\n",
       " 'clf__estimator__max_depth': None,\n",
       " 'clf__estimator__max_features': 'auto',\n",
       " 'clf__estimator__max_leaf_nodes': None,\n",
       " 'clf__estimator__min_impurity_decrease': 0.0,\n",
       " 'clf__estimator__min_impurity_split': None,\n",
       " 'clf__estimator__min_samples_leaf': 1,\n",
       " 'clf__estimator__min_samples_split': 2,\n",
       " 'clf__estimator__min_weight_fraction_leaf': 0.0,\n",
       " 'clf__estimator__n_estimators': 100,\n",
       " 'clf__estimator__n_jobs': 1,\n",
       " 'clf__estimator__oob_score': False,\n",
       " 'clf__estimator__random_state': 1,\n",
       " 'clf__estimator__verbose': 0,\n",
       " 'clf__estimator__warm_start': False,\n",
       " 'clf__estimator': RandomForestClassifier(bootstrap=True, class_weight=None, criterion='gini',\n",
       "             max_depth=None, max_features='auto', max_leaf_nodes=None,\n",
       "             min_impurity_decrease=0.0, min_impurity_split=None,\n",
       "             min_samples_leaf=1, min_samples_split=2,\n",
       "             min_weight_fraction_leaf=0.0, n_estimators=100, n_jobs=1,\n",
       "             oob_score=False, random_state=1, verbose=0, warm_start=False),\n",
       " 'clf__n_jobs': -1}"
      ]
     },
     "execution_count": 14,
     "metadata": {},
     "output_type": "execute_result"
    }
   ],
   "source": [
    "pipeline.get_params()"
   ]
  },
  {
   "cell_type": "code",
   "execution_count": 18,
   "metadata": {},
   "outputs": [],
   "source": [
    "def build_model():\n",
    "    pipeline = Pipeline([\n",
    "        ('vec', CountVectorizer(tokenizer=tokenize)),\n",
    "        ('tfidf', TfidfTransformer()),\n",
    "        ('clf', MultiOutputClassifier(RandomForestClassifier(n_estimators=100, random_state=1), n_jobs=-1))\n",
    "    ])\n",
    "\n",
    "    \n",
    "    parameters = {\n",
    "        #'vec__max_df':(0.5,1),\n",
    "        'vec__max_features':(500, 1000),\n",
    "        #'clf__estimator__n_estimators':[100,200],\n",
    "        'clf__estimator__min_samples_split': [2,4],\n",
    "    }\n",
    "         \n",
    "\n",
    "    cv = GridSearchCV(pipeline, param_grid=parameters, refit=True)\n",
    "    \n",
    "    return cv"
   ]
  },
  {
   "cell_type": "code",
   "execution_count": 25,
   "metadata": {},
   "outputs": [],
   "source": [
    "import signal\n",
    "\n",
    "from contextlib import contextmanager\n",
    "\n",
    "import requests\n",
    "\n",
    "\n",
    "DELAY = INTERVAL = 4 * 60  # interval time in seconds\n",
    "MIN_DELAY = MIN_INTERVAL = 2 * 60\n",
    "KEEPALIVE_URL = \"https://nebula.udacity.com/api/v1/remote/keep-alive\"\n",
    "TOKEN_URL = \"http://metadata.google.internal/computeMetadata/v1/instance/attributes/keep_alive_token\"\n",
    "TOKEN_HEADERS = {\"Metadata-Flavor\":\"Google\"}\n",
    "\n",
    "\n",
    "def _request_handler(headers):\n",
    "    def _handler(signum, frame):\n",
    "        requests.request(\"POST\", KEEPALIVE_URL, headers=headers)\n",
    "    return _handler\n",
    "\n",
    "\n",
    "@contextmanager\n",
    "def active_session(delay=DELAY, interval=INTERVAL):\n",
    "    \"\"\"\n",
    "    Example:\n",
    "\n",
    "    from workspace_utils import active session\n",
    "\n",
    "    with active_session():\n",
    "        # do long-running work here\n",
    "    \"\"\"\n",
    "    token = requests.request(\"GET\", TOKEN_URL, headers=TOKEN_HEADERS).text\n",
    "    headers = {'Authorization': \"STAR \" + token}\n",
    "    delay = max(delay, MIN_DELAY)\n",
    "    interval = max(interval, MIN_INTERVAL)\n",
    "    original_handler = signal.getsignal(signal.SIGALRM)\n",
    "    try:\n",
    "        signal.signal(signal.SIGALRM, _request_handler(headers))\n",
    "        signal.setitimer(signal.ITIMER_REAL, delay, interval)\n",
    "        yield\n",
    "    finally:\n",
    "        signal.signal(signal.SIGALRM, original_handler)\n",
    "        signal.setitimer(signal.ITIMER_REAL, 0)\n",
    "\n",
    "\n",
    "def keep_awake(iterable, delay=DELAY, interval=INTERVAL):\n",
    "    \"\"\"\n",
    "    Example:\n",
    "\n",
    "    from workspace_utils import keep_awake\n",
    "\n",
    "    for i in keep_awake(range(5)):\n",
    "        # do iteration with lots of work here\n",
    "    \"\"\"\n",
    "    with active_session(delay, interval): yield from iterable\n"
   ]
  },
  {
   "cell_type": "code",
   "execution_count": 8,
   "metadata": {},
   "outputs": [],
   "source": [
    "with active_session():\n",
    "    cv = build_model()\n",
    "    cv.fit(X_train, y_train)"
   ]
  },
  {
   "cell_type": "code",
   "execution_count": 9,
   "metadata": {},
   "outputs": [
    {
     "data": {
      "text/plain": [
       "GridSearchCV(cv=None, error_score='raise',\n",
       "       estimator=Pipeline(memory=None,\n",
       "     steps=[('vec', CountVectorizer(analyzer='word', binary=False, decode_error='strict',\n",
       "        dtype=<class 'numpy.int64'>, encoding='utf-8', input='content',\n",
       "        lowercase=True, max_df=1.0, max_features=None, min_df=1,\n",
       "        ngram_range=(1, 1), preprocessor=None, stop_words=None,\n",
       "        strip_...,\n",
       "            oob_score=False, random_state=1, verbose=0, warm_start=False),\n",
       "           n_jobs=-1))]),\n",
       "       fit_params=None, iid=True, n_jobs=1,\n",
       "       param_grid={'vec__max_df': (0.5, 1), 'vec__max_features': (None, 5000, 10000), 'clf__estimator__n_estimators': [50, 100, 200], 'clf__estimator__min_samples_split': [2, 4, 6], 'tfidf__use_idf': (True, False)},\n",
       "       pre_dispatch='2*n_jobs', refit=True, return_train_score='warn',\n",
       "       scoring=None, verbose=0)"
      ]
     },
     "execution_count": 9,
     "metadata": {},
     "output_type": "execute_result"
    }
   ],
   "source": [
    "cv"
   ]
  },
  {
   "cell_type": "markdown",
   "metadata": {},
   "source": [
    "### 7. Test your model\n",
    "Show the accuracy, precision, and recall of the tuned model.\n",
    "\n",
    "Since this project focuses on code quality, process, and pipelines, there is no minimum performance metric needed to pass. However, make sure to fine tune your models for accuracy, precision and recall to make your project stand out - especially for your portfolio!"
   ]
  },
  {
   "cell_type": "code",
   "execution_count": 22,
   "metadata": {},
   "outputs": [
    {
     "name": "stdout",
     "output_type": "stream",
     "text": [
      "                        precision    recall  f1-score   support\n",
      "\n",
      "               related       0.84      0.92      0.88      4989\n",
      "               request       0.81      0.53      0.64      1067\n",
      "                 offer       0.00      0.00      0.00        33\n",
      "           aid_related       0.73      0.71      0.72      2643\n",
      "          medical_help       0.55      0.17      0.26       495\n",
      "      medical_products       0.79      0.20      0.32       305\n",
      "     search_and_rescue       0.62      0.14      0.22       154\n",
      "              security       0.00      0.00      0.00       104\n",
      "              military       0.62      0.12      0.21       210\n",
      "           child_alone       0.00      0.00      0.00         0\n",
      "                 water       0.80      0.53      0.64       413\n",
      "                  food       0.81      0.73      0.77       726\n",
      "               shelter       0.82      0.52      0.64       591\n",
      "              clothing       0.75      0.36      0.49        92\n",
      "                 money       0.90      0.06      0.12       146\n",
      "        missing_people       0.00      0.00      0.00        72\n",
      "              refugees       0.49      0.11      0.18       207\n",
      "                 death       0.77      0.39      0.52       301\n",
      "             other_aid       0.57      0.07      0.13       852\n",
      "infrastructure_related       0.30      0.01      0.01       447\n",
      "             transport       0.65      0.13      0.22       297\n",
      "             buildings       0.81      0.22      0.35       339\n",
      "           electricity       0.75      0.04      0.08       136\n",
      "                 tools       0.00      0.00      0.00        41\n",
      "             hospitals       0.00      0.00      0.00        77\n",
      "                 shops       0.00      0.00      0.00        24\n",
      "           aid_centers       0.00      0.00      0.00        96\n",
      "  other_infrastructure       0.17      0.00      0.01       302\n",
      "       weather_related       0.84      0.73      0.78      1868\n",
      "                floods       0.91      0.52      0.66       546\n",
      "                 storm       0.75      0.61      0.67       625\n",
      "                  fire       1.00      0.03      0.05        78\n",
      "            earthquake       0.89      0.80      0.84       616\n",
      "                  cold       0.81      0.15      0.26       138\n",
      "         other_weather       0.52      0.06      0.11       371\n",
      "         direct_report       0.74      0.40      0.52      1207\n",
      "\n",
      "           avg / total       0.74      0.57      0.61     20608\n",
      "\n"
     ]
    },
    {
     "name": "stderr",
     "output_type": "stream",
     "text": [
      "/opt/conda/lib/python3.6/site-packages/sklearn/metrics/classification.py:1135: UndefinedMetricWarning: Precision and F-score are ill-defined and being set to 0.0 in labels with no predicted samples.\n",
      "  'precision', 'predicted', average, warn_for)\n",
      "/opt/conda/lib/python3.6/site-packages/sklearn/metrics/classification.py:1137: UndefinedMetricWarning: Recall and F-score are ill-defined and being set to 0.0 in labels with no true samples.\n",
      "  'recall', 'true', average, warn_for)\n"
     ]
    }
   ],
   "source": [
    "with active_session():\n",
    "    def load_data():\n",
    "        engine = create_engine('sqlite:///data_project.db')\n",
    "        df = pd.read_sql(\"SELECT * FROM data_project\", engine)\n",
    "        X = df['message']\n",
    "        y = df.iloc[:,4:41]\n",
    "        labels = y.columns\n",
    "        return X, y, labels\n",
    "\n",
    "\n",
    "    def display_results(cv, y_test, y_pred):\n",
    "        print(classification_report(y_test, y_pred, target_names=labels))\n",
    "\n",
    "\n",
    "    def main():\n",
    "        X, y,labels = load_data()\n",
    "        X_train, X_test, y_train, y_test = train_test_split(X, y)\n",
    "\n",
    "        model = build_model()\n",
    "        model.fit(X_train, y_train)\n",
    "        y_pred = model.predict(X_test)\n",
    "    \n",
    "        display_results(model, y_test, y_pred)\n",
    "\n",
    "\n",
    "    main()"
   ]
  },
  {
   "cell_type": "markdown",
   "metadata": {},
   "source": [
    "### 8. Try improving your model further. Here are a few ideas:\n",
    "* try other machine learning algorithms\n",
    "* add other features besides the TF-IDF"
   ]
  },
  {
   "cell_type": "code",
   "execution_count": null,
   "metadata": {},
   "outputs": [],
   "source": [
    "# try using SMV instead of random forest"
   ]
  },
  {
   "cell_type": "code",
   "execution_count": 34,
   "metadata": {},
   "outputs": [],
   "source": [
    "pipeline = Pipeline([\n",
    "        ('vec', CountVectorizer(tokenizer=tokenize)),\n",
    "        ('tfidf', TfidfTransformer()),\n",
    "        ('clf', MultiOutputClassifier(tree.DecisionTreeClassifier()))\n",
    "    ])"
   ]
  },
  {
   "cell_type": "code",
   "execution_count": 12,
   "metadata": {},
   "outputs": [
    {
     "data": {
      "text/plain": [
       "<bound method Pipeline.get_params of Pipeline(memory=None,\n",
       "     steps=[('vec', CountVectorizer(analyzer='word', binary=False, decode_error='strict',\n",
       "        dtype=<class 'numpy.int64'>, encoding='utf-8', input='content',\n",
       "        lowercase=True, max_df=1.0, max_features=None, min_df=1,\n",
       "        ngram_range=(1, 1), preprocessor=None, stop_words=None,\n",
       "        strip_...bility=False, random_state=None, shrinking=True,\n",
       "  tol=0.001, verbose=False),\n",
       "           n_jobs=1))])>"
      ]
     },
     "execution_count": 12,
     "metadata": {},
     "output_type": "execute_result"
    }
   ],
   "source": [
    "pipeline.get_params"
   ]
  },
  {
   "cell_type": "code",
   "execution_count": 35,
   "metadata": {},
   "outputs": [],
   "source": [
    "def build_model():\n",
    "    pipeline = Pipeline([\n",
    "        ('vec', CountVectorizer(tokenizer=tokenize)),\n",
    "        ('tfidf', TfidfTransformer()),\n",
    "        ('clf', MultiOutputClassifier(tree.DecisionTreeClassifier()))\n",
    "    ])\n",
    "\n",
    "    \n",
    "    parameters = {\n",
    "        'vec__max_df':(0.5,1),\n",
    "        'vec__max_features':(500, 1000)\n",
    "    }\n",
    "         \n",
    "\n",
    "    cv = GridSearchCV(pipeline, param_grid=parameters, refit=True)\n",
    "    \n",
    "    return cv"
   ]
  },
  {
   "cell_type": "code",
   "execution_count": 36,
   "metadata": {},
   "outputs": [
    {
     "name": "stdout",
     "output_type": "stream",
     "text": [
      "                        precision    recall  f1-score   support\n",
      "\n",
      "               related       0.76      1.00      0.86      4975\n",
      "               request       0.33      0.00      0.00      1094\n",
      "                 offer       0.00      0.00      0.00        28\n",
      "           aid_related       0.66      0.01      0.01      2729\n",
      "          medical_help       0.20      0.00      0.01       509\n",
      "      medical_products       0.40      0.01      0.01       311\n",
      "     search_and_rescue       0.00      0.00      0.00       179\n",
      "              security       0.00      0.00      0.00       118\n",
      "              military       1.00      0.00      0.01       227\n",
      "           child_alone       0.00      0.00      0.00         0\n",
      "                 water       0.33      0.00      0.01       448\n",
      "                  food       0.38      0.00      0.01       735\n",
      "               shelter       0.30      0.00      0.01       626\n",
      "              clothing       0.00      0.00      0.00       105\n",
      "                 money       0.00      0.00      0.00       148\n",
      "        missing_people       0.00      0.00      0.00        80\n",
      "              refugees       0.00      0.00      0.00       226\n",
      "                 death       0.20      0.00      0.01       297\n",
      "             other_aid       0.38      0.00      0.01       861\n",
      "infrastructure_related       0.25      0.00      0.01       453\n",
      "             transport       0.50      0.01      0.01       281\n",
      "             buildings       0.14      0.00      0.01       389\n",
      "           electricity       0.67      0.01      0.03       136\n",
      "                 tools       0.00      0.00      0.00        39\n",
      "             hospitals       0.00      0.00      0.00        68\n",
      "                 shops       0.33      0.02      0.04        43\n",
      "           aid_centers       0.00      0.00      0.00        83\n",
      "  other_infrastructure       0.00      0.00      0.00       304\n",
      "       weather_related       0.65      0.01      0.01      1816\n",
      "                floods       0.43      0.01      0.01       545\n",
      "                 storm       0.67      0.01      0.02       608\n",
      "                  fire       0.00      0.00      0.00        73\n",
      "            earthquake       0.00      0.00      0.00       609\n",
      "                  cold       0.00      0.00      0.00       128\n",
      "         other_weather       0.14      0.00      0.01       360\n",
      "         direct_report       0.56      0.00      0.01      1267\n",
      "\n",
      "           avg / total       0.50      0.24      0.21     20898\n",
      "\n"
     ]
    },
    {
     "name": "stderr",
     "output_type": "stream",
     "text": [
      "/opt/conda/lib/python3.6/site-packages/sklearn/metrics/classification.py:1135: UndefinedMetricWarning: Precision and F-score are ill-defined and being set to 0.0 in labels with no predicted samples.\n",
      "  'precision', 'predicted', average, warn_for)\n",
      "/opt/conda/lib/python3.6/site-packages/sklearn/metrics/classification.py:1137: UndefinedMetricWarning: Recall and F-score are ill-defined and being set to 0.0 in labels with no true samples.\n",
      "  'recall', 'true', average, warn_for)\n"
     ]
    }
   ],
   "source": [
    "with active_session():\n",
    "    def load_data():\n",
    "        engine = create_engine('sqlite:///data_project.db')\n",
    "        df = pd.read_sql(\"SELECT * FROM data_project\", engine)\n",
    "        X = df['message']\n",
    "        y = df.iloc[:,4:41]\n",
    "        labels = y.columns\n",
    "        return X, y, labels\n",
    "\n",
    "\n",
    "    def display_results(cv, y_test, y_pred):\n",
    "        print(classification_report(y_test, y_pred, target_names=labels))\n",
    "\n",
    "\n",
    "    def main():\n",
    "        X, y,labels = load_data()\n",
    "        X_train, X_test, y_train, y_test = train_test_split(X, y)\n",
    "\n",
    "        model = build_model()\n",
    "        model.fit(X_train, y_train)\n",
    "        y_pred = model.predict(X_test)\n",
    "    \n",
    "        display_results(model, y_test, y_pred)\n",
    "\n",
    "\n",
    "    main()"
   ]
  },
  {
   "cell_type": "markdown",
   "metadata": {},
   "source": [
    "### 9. Export your model as a pickle file"
   ]
  },
  {
   "cell_type": "code",
   "execution_count": 19,
   "metadata": {},
   "outputs": [],
   "source": [
    "final_model = Pipeline([\n",
    "        ('vec', CountVectorizer(tokenizer=tokenize,max_features = 1000 )),\n",
    "        ('tfidf', TfidfTransformer()),\n",
    "        ('clf', MultiOutputClassifier(RandomForestClassifier(n_estimators=200, random_state=1, min_samples_split= 2), n_jobs=-1))\n",
    "    ])\n"
   ]
  },
  {
   "cell_type": "code",
   "execution_count": 20,
   "metadata": {},
   "outputs": [],
   "source": [
    "filename = 'finalized_model.sav'\n",
    "pickle.dump(final_model, open(filename, 'wb'))"
   ]
  },
  {
   "cell_type": "markdown",
   "metadata": {},
   "source": [
    "### 10. Use this notebook to complete `train.py`\n",
    "Use the template file attached in the Resources folder to write a script that runs the steps above to create a database and export a model based on a new dataset specified by the user."
   ]
  },
  {
   "cell_type": "code",
   "execution_count": null,
   "metadata": {},
   "outputs": [],
   "source": []
  }
 ],
 "metadata": {
  "kernelspec": {
   "display_name": "Python 3",
   "language": "python",
   "name": "python3"
  },
  "language_info": {
   "codemirror_mode": {
    "name": "ipython",
    "version": 3
   },
   "file_extension": ".py",
   "mimetype": "text/x-python",
   "name": "python",
   "nbconvert_exporter": "python",
   "pygments_lexer": "ipython3",
   "version": "3.6.3"
  }
 },
 "nbformat": 4,
 "nbformat_minor": 2
}
